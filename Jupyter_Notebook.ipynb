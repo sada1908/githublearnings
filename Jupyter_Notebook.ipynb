{
 "cells": [
  {
   "cell_type": "markdown",
   "metadata": {},
   "source": [
    "<center>\n",
    "    <img src=\"https://cf-courses-data.s3.us.cloud-object-storage.appdomain.cloud/IBMDeveloperSkillsNetwork-DS0105EN-SkillsNetwork/labs/Module2/images/SN_web_lightmode.png\" width=\"300\" alt=\"cognitiveclass.ai logo\">\n",
    "</center>\n"
   ]
  },
  {
   "cell_type": "markdown",
   "metadata": {},
   "source": [
    "#### Add your code below following the instructions given in the course\n"
   ]
  },
  {
   "cell_type": "markdown",
   "metadata": {},
   "source": [
    "<h1>Data Science Tools and Eco Systems</h1>"
   ]
  },
  {
   "cell_type": "markdown",
   "metadata": {},
   "source": [
    "<h2><title>Objectives</title></h2>"
   ]
  },
  {
   "cell_type": "markdown",
   "metadata": {},
   "source": [
    "<h3>In this notebook, Data Science Tools and Ecosystem are summarized</h3>\n",
    "<ul>* Popular Languages for Data Science</ul>\n",
    "<ul>* Popular libraries used by Data Scientists</ul>\n",
    "<ul>* Tools available for Data Scientists</ul>\n",
    "<ul>* Remarks in Code Cells</ul>\n"
   ]
  },
  {
   "cell_type": "markdown",
   "metadata": {},
   "source": [
    "<h2> Some of the popular languages for Data Science are :</h2>\n",
    "    \n",
    "<ol>\n",
    "    <li>Python</li>\n",
    "    <li>R</li>\n",
    "    <li>Julia</li>\n",
    "    <li>SQL</li>\n",
    "    <li>Scala</li>\n",
    "    <li>MATLAB</li>\n",
    "    \n",
    "    \n",
    "</ol>\n",
    "    \n"
   ]
  },
  {
   "cell_type": "markdown",
   "metadata": {
    "tags": []
   },
   "source": [
    "<h2> Some of the popular libraries used by  Data Scientists  are :</h2>\n",
    "    \n",
    "<ol>\n",
    "    <li>Numpy</li>\n",
    "    <li>Pandas</li>\n",
    "    <li>SciPy</li>\n",
    "    <li>PyTorch</li>\n",
    "    <li>SciKitLearn</li>\n",
    "    <li>Keras</li>\n",
    "    <li>TensorFLow</li>\n",
    "    \n",
    "</ol>"
   ]
  },
  {
   "cell_type": "markdown",
   "metadata": {},
   "source": [
    "| Category                      | Tool                                                   | Description                                                                                   |\n",
    "|-------------------------------|--------------------------------------------------------|-----------------------------------------------------------------------------------------------|\n",
    "| Programming Languages        | Python                                                 | Versatile language with extensive libraries for data manipulation, analysis, and machine learning. |\n",
    "|                              | R                                                      | Popular among statisticians and academics for statistical analysis and visualization.         |\n",
    "|                              | SQL                                                    | Essential for querying and managing relational databases.                                     |\n",
    "| Integrated Development Environments | Jupyter Notebook                                       | Interactive environment for data exploration, visualization, and analysis.                       |\n",
    "|                              | Spyder                                                 | Python IDE designed for scientific computing and data analysis.                                 |\n",
    "|                              | RStudio                                                | IDE specifically tailored for R programming.                                                    |\n",
    "| Data Wrangling and Analysis  | Pandas                                                 | Python library for data manipulation and analysis.                                              |\n",
    "|                              | NumPy                                                  | Fundamental package for numerical computing in Python.                                           |\n",
    "|                              | dplyr                                                  | Part of the Tidyverse ecosystem in R, offering tools for data manipulation and transformation.  |\n",
    "|                              | tidyr                                                  | Also part of the Tidyverse, used for tidying and reshaping data.                                |\n",
    "| Visualization                | Matplotlib                                             | Basic plotting library in Python.                                                               |\n",
    "|                              | Seaborn                                                | Higher-level interface for creating statistical graphics in Python.                             |\n",
    "|                              | ggplot2                                                | Powerful visualization package in R based on the grammar of graphics principles.                 |\n",
    "|                              | Plotly                                                 | Offers interactive plotting capabilities in Python, R, and other languages.                       |\n",
    "| Machine Learning and Deep Learning | Scikit-learn                                           | Comprehensive machine learning library in Python.                                                |\n",
    "|                              | TensorFlow                                             | Deep learning framework for building and training neural networks.                               |\n",
    "|                              | Keras                                                  | User-friendly API for building and experimenting with deep learning models.                       |\n",
    "|                              | PyTorch                                                | Flexible deep learning framework known for its dynamic computational graph.                       |\n",
    "| Big Data and Distributed Computing | Apache Spark                                          | Cluster computing system for big data processing.                                                |\n",
    "|                              | Hadoop                                                 | Distributed storage and processing framework for handling large datasets across clusters.         |\n",
    "| Version Control              | Git                                                    | Version control system for tracking changes in code repositories.                                |\n",
    "| Deployment and Production    | Docker                                                 | Containerization platform for packaging applications and dependencies.                           |\n",
    "|                              | Kubernetes    \n",
    "\n",
    "\n",
    "\n",
    "\n",
    "\n",
    "\n",
    "\n",
    "\n",
    "\n",
    "\n",
    "\n",
    "\n",
    "\n",
    "\n"
   ]
  },
  {
   "cell_type": "markdown",
   "metadata": {
    "tags": []
   },
   "source": [
    "<h3>Below are a few examples of evaluating arithmetic expressions in Python</h3>"
   ]
  },
  {
   "cell_type": "code",
   "execution_count": 4,
   "metadata": {
    "tags": []
   },
   "outputs": [
    {
     "data": {
      "text/plain": [
       "17"
      ]
     },
     "execution_count": 4,
     "metadata": {},
     "output_type": "execute_result"
    }
   ],
   "source": [
    "#This a simple arithmetic expression to mutiply then add integers\n",
    "(3*4)+5"
   ]
  },
  {
   "cell_type": "code",
   "execution_count": 5,
   "metadata": {
    "tags": []
   },
   "outputs": [
    {
     "data": {
      "text/plain": [
       "3"
      ]
     },
     "execution_count": 5,
     "metadata": {},
     "output_type": "execute_result"
    }
   ],
   "source": [
    "#This will convert 200 minutes to hours by diving by 60.\n",
    "200//60"
   ]
  },
  {
   "cell_type": "markdown",
   "metadata": {
    "tags": []
   },
   "source": [
    "<h2>Author : \n",
    "    Sadanand Rajpurohit\n",
    "</h2>    \n",
    "    \n",
    "    "
   ]
  },
  {
   "cell_type": "code",
   "execution_count": null,
   "metadata": {},
   "outputs": [],
   "source": []
  }
 ],
 "metadata": {
  "kernelspec": {
   "display_name": "Python",
   "language": "python",
   "name": "conda-env-python-py"
  },
  "language_info": {
   "codemirror_mode": {
    "name": "ipython",
    "version": 3
   },
   "file_extension": ".py",
   "mimetype": "text/x-python",
   "name": "python",
   "nbconvert_exporter": "python",
   "pygments_lexer": "ipython3",
   "version": "3.7.12"
  }
 },
 "nbformat": 4,
 "nbformat_minor": 4
}
