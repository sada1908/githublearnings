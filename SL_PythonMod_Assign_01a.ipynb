{
  "nbformat": 4,
  "nbformat_minor": 0,
  "metadata": {
    "colab": {
      "provenance": [],
      "mount_file_id": "1QF3nRMP704DvMGcNiwhE_arZoRDLd6ki",
      "authorship_tag": "ABX9TyNXhJhhCmIfepvAt1aBUHUL",
      "include_colab_link": true
    },
    "kernelspec": {
      "name": "python3",
      "display_name": "Python 3"
    },
    "language_info": {
      "name": "python"
    }
  },
  "cells": [
    {
      "cell_type": "markdown",
      "metadata": {
        "id": "view-in-github",
        "colab_type": "text"
      },
      "source": [
        "<a href=\"https://colab.research.google.com/github/sada1908/githublearnings/blob/main/SL_PythonMod_Assign_01a.ipynb\" target=\"_parent\"><img src=\"https://colab.research.google.com/assets/colab-badge.svg\" alt=\"Open In Colab\"/></a>"
      ]
    },
    {
      "cell_type": "code",
      "source": [
        "# Objectives:\n",
        "# 1. Design and implement a personal expense tracker that enables users to manage their expenses\n",
        "# 2. Allow users to categorize expenses and set monthly budgets\n",
        "# 3. Implement file-handling functionality to save and load expense data\n",
        "# 4. Create an interactive, menu-driven interface for ease of use"
      ],
      "metadata": {
        "id": "PKY1T7nBUUdu"
      },
      "execution_count": 1,
      "outputs": []
    },
    {
      "cell_type": "code",
      "source": [
        "from datetime import datetime"
      ],
      "metadata": {
        "id": "dJopZ9WtUvDb"
      },
      "execution_count": 2,
      "outputs": []
    },
    {
      "cell_type": "code",
      "source": [
        "import csv"
      ],
      "metadata": {
        "id": "NeLZ4YpRLrfL"
      },
      "execution_count": 3,
      "outputs": []
    },
    {
      "cell_type": "code",
      "source": [
        "# Populate teh Categories of expenses\n",
        "category_list = ('Food', 'Travel', 'Entertainment', 'Other')"
      ],
      "metadata": {
        "id": "X-Fwqlyic6Hd"
      },
      "execution_count": 4,
      "outputs": []
    },
    {
      "cell_type": "code",
      "source": [
        "# Initialize an empty list to act as the expense ledger\n",
        "expense_ledger = []"
      ],
      "metadata": {
        "id": "bOr8DZhj8Zp2"
      },
      "execution_count": 5,
      "outputs": []
    },
    {
      "cell_type": "code",
      "source": [
        "# convert this cell code to defien a funciton for adding an expense list\n",
        "def add_expenses(category_list):\n",
        "  expense_dict_template = {}\n",
        "  date_str = input('Enter the date of the expense in the format YYYY-MM-DD: ')\n",
        "  try:\n",
        "    expense_dict_template['date'] = datetime.strptime(date_str, '%Y-%m-%d')\n",
        "  except ValueError:\n",
        "    print(\"Invalid date format. Please use YYYY-MM-DD.\")\n",
        "    return None # Return None if date format is invalid\n",
        "\n",
        "  for cat in category_list:\n",
        "    while True: # Loop to ensure valid amount input\n",
        "      try:\n",
        "        exp_amt = float(input(f'Enter the amount spent on {cat}: '))\n",
        "        expense_dict_template[cat] = exp_amt  # Assign the amount here\n",
        "        break # Exit the inner loop if input is valid float\n",
        "      except ValueError:\n",
        "        print(\"Invalid input. Please enter a number for the amount.\")\n",
        "\n",
        "  expense_dict_template['desciption'] = input('Enter a brief description of the expenses :')\n",
        "  return expense_dict_template # Return the expense dictionary"
      ],
      "metadata": {
        "id": "aqawjHxCU04u"
      },
      "execution_count": 6,
      "outputs": []
    },
    {
      "cell_type": "code",
      "source": [
        "# define a function to tarck budget for the categories in the given date span\n",
        "def expense_tracker(expense_ledger, start_date, end_date):\n",
        "  total_expenses = 0\n",
        "  for expense in expense_ledger:\n",
        "    if start_date <= expense['date'] <= end_date:\n",
        "      for category, amount in expense.items():\n",
        "        if category != 'date' and category != 'desciption':\n",
        "          total_expenses += amount\n",
        "  return total_expenses"
      ],
      "metadata": {
        "id": "esRg6c5nwZp6"
      },
      "execution_count": 7,
      "outputs": []
    },
    {
      "cell_type": "code",
      "metadata": {
        "id": "a34c19df"
      },
      "source": [
        "def save_expenses_to_csv(expense_ledger, filename=\"expense_ledger.csv\"):\n",
        "    if not expense_ledger:\n",
        "        print(\"No expenses to save.\")\n",
        "        return\n",
        "\n",
        "    # Get all unique keys from the dictionaries in the ledger\n",
        "    all_keys = set()\n",
        "    for expense in expense_ledger:\n",
        "        all_keys.update(expense.keys())\n",
        "\n",
        "    # Define the order of headers, ensuring 'date' and 'desciption' are included\n",
        "    header = ['date'] + [key for key in all_keys if key not in ['date', 'desciption']] + ['desciption']\n",
        "\n",
        "    with open(filename, 'w', newline='') as csvfile:\n",
        "        writer = csv.DictWriter(csvfile, fieldnames=header)\n",
        "\n",
        "        writer.writeheader()\n",
        "        for expense in expense_ledger:\n",
        "            writer.writerow(expense)\n",
        "\n",
        "    print(f\"Expenses saved successfully to {filename}\")\n",
        "\n",
        "# Example usage (assuming expense_ledger is already populated)\n",
        "# save_expenses_to_csv(expense_ledger)"
      ],
      "execution_count": 8,
      "outputs": []
    },
    {
      "cell_type": "code",
      "source": [
        "# write a menu of options for adding expenses , viewing expenses , tracking expenses, saving expenses to a file , save & exit , reinitialising the expense ledger and changing the category list\n",
        "\n",
        "def run_expense_tracker_menu():\n",
        "    global category_list # Declare category_list as global\n",
        "    global expense_ledger # Declare expense_ledger as global\n",
        "    print('Welcome to the Expense Tracker!')\n",
        "    while True:\n",
        "        print('\\nPlease select an option as per the menu below:')\n",
        "        print('1. Add expense')\n",
        "        print('2. View expenses')\n",
        "        print('3. Track budget')\n",
        "        print('4. Save expenses')\n",
        "        print('5. Exit')\n",
        "        print('6. Reinitialise the expense ledger')\n",
        "        print('7. Change the category list')\n",
        "\n",
        "        option = input('Enter your option 1-7: ')\n",
        "\n",
        "        if option == '1':\n",
        "            while True:\n",
        "                new_expense = add_expenses(category_list)\n",
        "                if new_expense is not None: # Check if add_expenses returned a valid dictionary\n",
        "                    expense_ledger.append(new_expense) # Append the new expense to the ledger\n",
        "                inp = input('Do you want to add another expense? (y/n): ')\n",
        "                if inp.lower() != 'y':\n",
        "                    break\n",
        "            print(expense_ledger)\n",
        "            print('Expenses added successfully!')\n",
        "\n",
        "        elif option == '2':\n",
        "            print('Expenses:')\n",
        "            for expense in expense_ledger:\n",
        "                print(expense)\n",
        "\n",
        "        elif option == '3':\n",
        "            print('Provide your budget for a given period')\n",
        "            budget = float(input('Enter your budget: '))\n",
        "            print('give the time period for the budget')\n",
        "            start_date_str = input('Enter the start date in the format YYYY-MM-DD: ')\n",
        "            end_date_str = input('Enter the end date in the format YYYY-MM-DD: ')\n",
        "            try:\n",
        "                start_date = datetime.strptime(start_date_str, '%Y-%m-%d')\n",
        "                end_date = datetime.strptime(end_date_str, '%Y-%m-%d')\n",
        "                spent_budget = expense_tracker(expense_ledger, start_date, end_date)\n",
        "                if spent_budget > budget:\n",
        "                    print(f'You have exceeded your budget by {spent_budget - budget}')\n",
        "                else:\n",
        "                    print(f'You have {budget - spent_budget} left for the month')\n",
        "            except ValueError:\n",
        "                print(\"Invalid date format. Please use YYYY-MM-DD.\")\n",
        "\n",
        "\n",
        "        elif option == '4':\n",
        "            file_path = '/content/drive/MyDrive/Simplilearn_02_AgenticAICourse/Simplilearn_Python_01'\n",
        "            # just take the first 3 leters of input and convert to lowercase\n",
        "            month,year = input('Enter the month and year in the format mmm-yyyy: ').split('-')\n",
        "            month = month.lower()\n",
        "            if month not in ['jan', 'feb', 'mar', 'apr', 'may', 'jun', 'jul', 'aug', 'sep', 'oct', 'nov', 'dec']:\n",
        "                print('Invalid month. Please enter a valid month.')\n",
        "                continue\n",
        "            filename = month + year + '_expenses.csv'\n",
        "            filename = file_path + '/' + filename\n",
        "            save_expenses_to_csv(expense_ledger, filename)\n",
        "            print('Expenses saved successfully!')\n",
        "\n",
        "\n",
        "        elif option == '5':\n",
        "            print('Thank you for using the Expense Tracker!')\n",
        "            break # Exit the main menu loop\n",
        "\n",
        "        elif option == '6':\n",
        "            expense_ledger = []\n",
        "            print('Expense ledger reinitialized!')\n",
        "\n",
        "        elif option == '7':\n",
        "            print('Please enter the new category list')\n",
        "            new_category_list = input('Enter the new category list separated by commas: ')\n",
        "            new_category_list = new_category_list.split(',')\n",
        "            new_category_list = [cat.strip() for cat in new_category_list]\n",
        "            # Ensure the category_list variable is updated in the global scope\n",
        "            category_list = new_category_list\n",
        "            print('Category list updated successfully!')\n",
        "\n",
        "        else:\n",
        "            print('Invalid option. Please enter a number between 1 and 7.')\n",
        "\n",
        "# To run the menu, call the function:\n",
        "# run_expense_tracker_menu()"
      ],
      "metadata": {
        "id": "WUNAm5q-r7xR"
      },
      "execution_count": 18,
      "outputs": []
    },
    {
      "cell_type": "code",
      "metadata": {
        "id": "8de3d8b0"
      },
      "source": [
        "def load_expenses_from_csv(filename=\"expense_ledger.csv\"):\n",
        "    global expense_ledger  # Declare expense_ledger as global\n",
        "    expense_ledger = []  # Reinitialize the ledger before loading\n",
        "\n",
        "    try:\n",
        "        with open(filename, 'r', newline='') as csvfile:\n",
        "            reader = csv.DictReader(csvfile)\n",
        "            for row in reader:\n",
        "                # Convert date string back to datetime object\n",
        "                try:\n",
        "                    row['date'] = datetime.strptime(row['date'], '%Y-%m-%d %H:%M:%S')\n",
        "                except ValueError:\n",
        "                    # Handle potential errors in date format if necessary\n",
        "                    print(f\"Skipping row due to invalid date format: {row}\")\n",
        "                    continue\n",
        "\n",
        "                # Convert expense amounts from string to float\n",
        "                for key, value in row.items():\n",
        "                    if key not in ['date', 'desciption']:\n",
        "                        try:\n",
        "                            row[key] = float(value)\n",
        "                        except ValueError:\n",
        "                            print(f\"Skipping value for {key} due to invalid number format: {value}\")\n",
        "                            row[key] = 0.0 # or handle as an error\n",
        "\n",
        "                expense_ledger.append(row)\n",
        "        print(f\"Expenses loaded successfully from {filename}\")\n",
        "    except FileNotFoundError:\n",
        "        print(f\"No expense file found at {filename}. Starting with an empty ledger.\")\n",
        "    except Exception as e:\n",
        "        print(f\"An error occurred while loading expenses: {e}\")"
      ],
      "execution_count": 14,
      "outputs": []
    },
    {
      "cell_type": "code",
      "metadata": {
        "colab": {
          "base_uri": "https://localhost:8080/"
        },
        "id": "00cb0eed",
        "outputId": "e8d764be-556c-4a31-cdfc-473547970811"
      },
      "source": [
        "if __name__ == \"__main__\":\n",
        "    month_name = input('Enter the month name you want to do expenses from (e.g., Jan, Feb, etc.): ').lower()\n",
        "    year = input('Enter the year: ')\n",
        "    file_name = month_name + year + '_expenses.csv'\n",
        "    path = '/content/drive/MyDrive/Simplilearn_02_AgenticAICourse/Simplilearn_Python_01'\n",
        "    file_path = path + '/' + file_name\n",
        "    try:\n",
        "      load_expenses_from_csv(file_path)\n",
        "    except FileNotFoundError:\n",
        "      print(f\"No expense file found at {file_path}. Starting with an empty ledger.\")\n",
        "    run_expense_tracker_menu()"
      ],
      "execution_count": 19,
      "outputs": [
        {
          "output_type": "stream",
          "name": "stdout",
          "text": [
            "Enter the month name you want to do expenses: aug\n",
            "Enter the year: 2025\n",
            "Expenses loaded successfully from /content/drive/MyDrive/Simplilearn_02_AgenticAICourse/Simplilearn_Python_01/aug2025_expenses.csv\n",
            "Welcome to the Expense Tracker!\n",
            "\n",
            "Please select an option as per the menu below:\n",
            "1. Add expense\n",
            "2. View expenses\n",
            "3. Track budget\n",
            "4. Save expenses\n",
            "5. Exit\n",
            "6. Reinitialise the expense ledger\n",
            "7. Change the category list\n",
            "Enter your option 1-7: 2\n",
            "Expenses:\n",
            "{'date': datetime.datetime(2025, 8, 1, 0, 0), 'Other': 100.0, 'Travel': 100.0, 'Entertainment': 0.0, 'Food': 500.0, 'desciption': 'abc'}\n",
            "{'date': datetime.datetime(2025, 8, 5, 0, 0), 'Other': 100.0, 'Travel': 1000.0, 'Entertainment': 0.0, 'Food': 100.0, 'desciption': 'def'}\n",
            "{'date': datetime.datetime(2025, 8, 10, 0, 0), 'Other': 100.0, 'Travel': 0.0, 'Entertainment': 100.0, 'Food': 200.0, 'desciption': 'xyz'}\n",
            "\n",
            "Please select an option as per the menu below:\n",
            "1. Add expense\n",
            "2. View expenses\n",
            "3. Track budget\n",
            "4. Save expenses\n",
            "5. Exit\n",
            "6. Reinitialise the expense ledger\n",
            "7. Change the category list\n",
            "Enter your option 1-7: 1\n",
            "Enter the date of the expense in the format YYYY-MM-DD: 2025-08-12\n",
            "Enter the amount spent on Food: 300\n",
            "Enter the amount spent on Travel: 100\n",
            "Enter the amount spent on Entertainment: 500\n",
            "Enter the amount spent on Other: 100\n",
            "Enter a brief description of the expenses :abcdef\n",
            "Do you want to add another expense? (y/n): n\n",
            "[{'date': datetime.datetime(2025, 8, 1, 0, 0), 'Other': 100.0, 'Travel': 100.0, 'Entertainment': 0.0, 'Food': 500.0, 'desciption': 'abc'}, {'date': datetime.datetime(2025, 8, 5, 0, 0), 'Other': 100.0, 'Travel': 1000.0, 'Entertainment': 0.0, 'Food': 100.0, 'desciption': 'def'}, {'date': datetime.datetime(2025, 8, 10, 0, 0), 'Other': 100.0, 'Travel': 0.0, 'Entertainment': 100.0, 'Food': 200.0, 'desciption': 'xyz'}, {'date': datetime.datetime(2025, 8, 12, 0, 0), 'Food': 300.0, 'Travel': 100.0, 'Entertainment': 500.0, 'Other': 100.0, 'desciption': 'abcdef'}]\n",
            "Expenses added successfully!\n",
            "\n",
            "Please select an option as per the menu below:\n",
            "1. Add expense\n",
            "2. View expenses\n",
            "3. Track budget\n",
            "4. Save expenses\n",
            "5. Exit\n",
            "6. Reinitialise the expense ledger\n",
            "7. Change the category list\n",
            "Enter your option 1-7: 4\n",
            "Enter the month name: 2\n",
            "Enter the year: 2025\n",
            "Expenses saved successfully to /content/drive/MyDrive/Simplilearn_02_AgenticAICourse/Simplilearn_Python_01/22025_expenses.csv\n",
            "Expenses saved successfully!\n",
            "\n",
            "Please select an option as per the menu below:\n",
            "1. Add expense\n",
            "2. View expenses\n",
            "3. Track budget\n",
            "4. Save expenses\n",
            "5. Exit\n",
            "6. Reinitialise the expense ledger\n",
            "7. Change the category list\n",
            "Enter your option 1-7: 4\n",
            "Enter the month name: aug\n",
            "Enter the year: 2025\n",
            "Expenses saved successfully to /content/drive/MyDrive/Simplilearn_02_AgenticAICourse/Simplilearn_Python_01/aug2025_expenses.csv\n",
            "Expenses saved successfully!\n",
            "\n",
            "Please select an option as per the menu below:\n",
            "1. Add expense\n",
            "2. View expenses\n",
            "3. Track budget\n",
            "4. Save expenses\n",
            "5. Exit\n",
            "6. Reinitialise the expense ledger\n",
            "7. Change the category list\n",
            "Enter your option 1-7: 2\n",
            "Expenses:\n",
            "{'date': datetime.datetime(2025, 8, 1, 0, 0), 'Other': 100.0, 'Travel': 100.0, 'Entertainment': 0.0, 'Food': 500.0, 'desciption': 'abc'}\n",
            "{'date': datetime.datetime(2025, 8, 5, 0, 0), 'Other': 100.0, 'Travel': 1000.0, 'Entertainment': 0.0, 'Food': 100.0, 'desciption': 'def'}\n",
            "{'date': datetime.datetime(2025, 8, 10, 0, 0), 'Other': 100.0, 'Travel': 0.0, 'Entertainment': 100.0, 'Food': 200.0, 'desciption': 'xyz'}\n",
            "{'date': datetime.datetime(2025, 8, 12, 0, 0), 'Food': 300.0, 'Travel': 100.0, 'Entertainment': 500.0, 'Other': 100.0, 'desciption': 'abcdef'}\n",
            "\n",
            "Please select an option as per the menu below:\n",
            "1. Add expense\n",
            "2. View expenses\n",
            "3. Track budget\n",
            "4. Save expenses\n",
            "5. Exit\n",
            "6. Reinitialise the expense ledger\n",
            "7. Change the category list\n",
            "Enter your option 1-7: 5\n",
            "Thank you for using the Expense Tracker!\n"
          ]
        }
      ]
    }
  ]
}