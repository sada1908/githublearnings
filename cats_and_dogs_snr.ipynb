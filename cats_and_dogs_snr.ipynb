{
  "nbformat": 4,
  "nbformat_minor": 0,
  "metadata": {
    "colab": {
      "provenance": [],
      "gpuType": "T4",
      "authorship_tag": "ABX9TyOZroxh0UcPX9G7BRdimO9x",
      "include_colab_link": true
    },
    "kernelspec": {
      "name": "python3",
      "display_name": "Python 3"
    },
    "language_info": {
      "name": "python"
    },
    "accelerator": "GPU"
  },
  "cells": [
    {
      "cell_type": "markdown",
      "metadata": {
        "id": "view-in-github",
        "colab_type": "text"
      },
      "source": [
        "<a href=\"https://colab.research.google.com/github/sada1908/githublearnings/blob/main/cats_and_dogs_snr.ipynb\" target=\"_parent\"><img src=\"https://colab.research.google.com/assets/colab-badge.svg\" alt=\"Open In Colab\"/></a>"
      ]
    },
    {
      "cell_type": "code",
      "execution_count": 8,
      "metadata": {
        "id": "AV7QGekpNxYQ"
      },
      "outputs": [],
      "source": [
        "import os\n",
        "import zipfile"
      ]
    },
    {
      "cell_type": "code",
      "source": [
        "!pip install kaggle"
      ],
      "metadata": {
        "colab": {
          "base_uri": "https://localhost:8080/"
        },
        "id": "IcFwnFmROwL_",
        "outputId": "f8ab428b-daec-4bf9-920c-1935ae478a98",
        "collapsed": true
      },
      "execution_count": 11,
      "outputs": [
        {
          "output_type": "stream",
          "name": "stdout",
          "text": [
            "Requirement already satisfied: kaggle in /usr/local/lib/python3.10/dist-packages (1.6.14)\n",
            "Requirement already satisfied: six>=1.10 in /usr/local/lib/python3.10/dist-packages (from kaggle) (1.16.0)\n",
            "Requirement already satisfied: certifi>=2023.7.22 in /usr/local/lib/python3.10/dist-packages (from kaggle) (2024.2.2)\n",
            "Requirement already satisfied: python-dateutil in /usr/local/lib/python3.10/dist-packages (from kaggle) (2.8.2)\n",
            "Requirement already satisfied: requests in /usr/local/lib/python3.10/dist-packages (from kaggle) (2.31.0)\n",
            "Requirement already satisfied: tqdm in /usr/local/lib/python3.10/dist-packages (from kaggle) (4.66.4)\n",
            "Requirement already satisfied: python-slugify in /usr/local/lib/python3.10/dist-packages (from kaggle) (8.0.4)\n",
            "Requirement already satisfied: urllib3 in /usr/local/lib/python3.10/dist-packages (from kaggle) (2.0.7)\n",
            "Requirement already satisfied: bleach in /usr/local/lib/python3.10/dist-packages (from kaggle) (6.1.0)\n",
            "Requirement already satisfied: webencodings in /usr/local/lib/python3.10/dist-packages (from bleach->kaggle) (0.5.1)\n",
            "Requirement already satisfied: text-unidecode>=1.3 in /usr/local/lib/python3.10/dist-packages (from python-slugify->kaggle) (1.3)\n",
            "Requirement already satisfied: charset-normalizer<4,>=2 in /usr/local/lib/python3.10/dist-packages (from requests->kaggle) (3.3.2)\n",
            "Requirement already satisfied: idna<4,>=2.5 in /usr/local/lib/python3.10/dist-packages (from requests->kaggle) (3.7)\n"
          ]
        }
      ]
    },
    {
      "cell_type": "code",
      "source": [
        "!mkdir -p ~/.kaggle\n",
        "\n"
      ],
      "metadata": {
        "id": "nu4W1vSXOd_p"
      },
      "execution_count": 12,
      "outputs": []
    },
    {
      "cell_type": "code",
      "source": [
        "!mv /kaggle.json ~/.kaggle"
      ],
      "metadata": {
        "id": "hGXGkeb7RSFE"
      },
      "execution_count": 13,
      "outputs": []
    },
    {
      "cell_type": "code",
      "source": [
        "!chmod 200 ~/.kaggle/kaggle.json"
      ],
      "metadata": {
        "id": "yfKl5wWeQITI"
      },
      "execution_count": 14,
      "outputs": []
    },
    {
      "cell_type": "code",
      "source": [
        "!kaggle datasets list"
      ],
      "metadata": {
        "colab": {
          "base_uri": "https://localhost:8080/"
        },
        "id": "GS2tXcENVxpc",
        "outputId": "e45ea484-985f-4ae7-ef58-03aef28399ca"
      },
      "execution_count": 15,
      "outputs": [
        {
          "output_type": "stream",
          "name": "stdout",
          "text": [
            "ref                                                             title                                               size  lastUpdated          downloadCount  voteCount  usabilityRating  \n",
            "--------------------------------------------------------------  -------------------------------------------------  -----  -------------------  -------------  ---------  ---------------  \n",
            "amanbarthwal/steam-store-data                                   Steam Store Data                                     6MB  2024-05-25 06:23:06            958         29  1.0              \n",
            "khushikhushikhushi/imdb-top-rated-tv-series-dataset             IMDb Top-Rated TV Series Dataset                    73KB  2024-05-25 19:22:33            603         22  1.0              \n",
            "kanchana1990/vehicle-dataset-2024                               Vehicle Dataset 2024                               308KB  2024-05-29 20:02:30           1052         34  1.0              \n",
            "shreyanshverma27/online-sales-dataset-popular-marketplace-data  Online Sales Dataset - Popular Marketplace Data      7KB  2024-05-25 23:55:26           1965         36  1.0              \n",
            "rohit265/credit-card-eligibility-data-determining-factors       Credit Card Eligibility Data: Determining Factors  296KB  2024-05-18 11:31:28           1961         34  1.0              \n",
            "zeesolver/spotfy                                                Spotify Songs Album                                 47KB  2024-05-10 09:21:57           3304         47  1.0              \n",
            "evangora/premier-league-data                                    Premier League Match Data and Season Stats         547KB  2024-05-29 18:18:13            726         23  0.9411765        \n",
            "jainaru/parkinson-disease-detection                             Parkinson Disease Detection                         16KB  2024-05-27 15:51:16            890         27  1.0              \n",
            "piterfm/football-soccer-uefa-euro-1960-2024                     Football - Soccer - UEFA EURO, 1960 - 2024          87KB  2024-05-27 19:28:57            978         30  1.0              \n",
            "jainaru/thyroid-disease-data                                    Thyroid Disease Data                                 3KB  2024-05-10 12:06:31           4371         90  1.0              \n",
            "prasad22/vehicle-population-statistics                          Vehicle Population Statistics                       44KB  2024-05-25 03:31:34           1035         31  1.0              \n",
            "dem0nking/mobile-games-android-and-ios-rating-dataset           Mobile Games (Android and IOS) Rating Dataset        2KB  2024-05-25 13:26:55            976         34  1.0              \n",
            "rahulvyasm/netflix-movies-and-tv-shows                          Netflix Movies and TV Shows                          1MB  2024-04-10 09:48:38          27004        572  1.0              \n",
            "emirhanai/social-media-usage-and-emotional-well-being           Social Media Usage and Emotional Well-Being          8KB  2024-05-19 18:25:52           2838         49  1.0              \n",
            "khushikhushikhushi/amazon-bestselling-books                     Amazon Bestselling Books                             4KB  2024-05-23 13:59:52           1255         33  1.0              \n",
            "prasad22/economic-census-data                                   Economic Census Data                                15MB  2024-05-26 06:34:46            708         24  1.0              \n",
            "kanchana1990/perfume-e-commerce-dataset-2024                    Perfume E-Commerce Dataset 2024                    106KB  2024-05-24 18:53:32           1024         34  1.0              \n",
            "sarahjeffreson/featured-spotify-artiststracks-with-metadata     Featured Spotify artists/tracks with metadata        5MB  2024-05-15 19:38:13            855         31  1.0              \n",
            "bhargavlc/studentsperformance                                   StudentsPerformance                                  3KB  2024-05-28 09:44:50           1812         33  1.0              \n",
            "prasad22/weather-data                                           Weather Data                                        43MB  2024-05-18 14:27:35           2306         51  1.0              \n"
          ]
        }
      ]
    },
    {
      "cell_type": "code",
      "source": [
        "!kaggle datasets download -d tongpython/cat-and-dog"
      ],
      "metadata": {
        "colab": {
          "base_uri": "https://localhost:8080/"
        },
        "id": "ikmXOsIubzBu",
        "outputId": "25b5f78b-d1f6-45c4-f4ce-c51d7bb5be09"
      },
      "execution_count": 16,
      "outputs": [
        {
          "output_type": "stream",
          "name": "stdout",
          "text": [
            "Dataset URL: https://www.kaggle.com/datasets/tongpython/cat-and-dog\n",
            "License(s): CC0-1.0\n",
            "Downloading cat-and-dog.zip to /content\n",
            " 91% 199M/218M [00:02<00:00, 53.0MB/s]\n",
            "100% 218M/218M [00:02<00:00, 78.3MB/s]\n"
          ]
        }
      ]
    },
    {
      "cell_type": "code",
      "source": [
        "os.makedirs('/content1/cats_and_dogs',exist_ok=True)"
      ],
      "metadata": {
        "id": "VM6fTv1zPHHV"
      },
      "execution_count": 17,
      "outputs": []
    },
    {
      "cell_type": "code",
      "source": [
        "with zipfile.ZipFile('/content/cat-and-dog.zip','r') as zip_ref:\n",
        "  zip_ref.extractall('/content1/cats_and_dogs')"
      ],
      "metadata": {
        "id": "gAV5nXeGcXlL"
      },
      "execution_count": 18,
      "outputs": []
    },
    {
      "cell_type": "code",
      "source": [
        "test_cats_set = os.listdir('/content1/cats_and_dogs/test_set/test_set/cats')\n",
        "test_dogs_set = os.listdir('/content1/cats_and_dogs/test_set/test_set/dogs')\n",
        "train_cats_set = os.listdir('/content1/cats_and_dogs/training_set/training_set/cats')\n",
        "train_dogs_set = os.listdir('/content1/cats_and_dogs/training_set/training_set/dogs')"
      ],
      "metadata": {
        "id": "J848ynckcln0"
      },
      "execution_count": 19,
      "outputs": []
    },
    {
      "cell_type": "code",
      "source": [
        "len(train_cats_set)"
      ],
      "metadata": {
        "colab": {
          "base_uri": "https://localhost:8080/"
        },
        "id": "BZXHPmRSU1_U",
        "outputId": "d57d07cf-98f9-4383-ca62-52b3a09618ff"
      },
      "execution_count": 20,
      "outputs": [
        {
          "output_type": "execute_result",
          "data": {
            "text/plain": [
              "4001"
            ]
          },
          "metadata": {},
          "execution_count": 20
        }
      ]
    },
    {
      "cell_type": "code",
      "source": [
        "import tensorflow as tf\n",
        "from tensorflow import keras\n",
        "from tensorflow.keras.preprocessing.image import ImageDataGenerator\n",
        "from tensorflow.keras.models import Sequential,Model\n",
        "from tensorflow.keras.layers import Conv2D,MaxPool2D,Flatten,Dense,Dropout\n",
        "from tensorflow.keras.optimizers import Adam\n",
        "from tensorflow.keras.applications import VGG16\n",
        "import os\n",
        "import numpy as np\n",
        "import matplotlib.pyplot as plt\n"
      ],
      "metadata": {
        "id": "Szjf4JB2XfHs"
      },
      "execution_count": 21,
      "outputs": []
    },
    {
      "cell_type": "code",
      "source": [
        "base_model = VGG16(weights='imagenet',include_top=False,input_shape=(224,224,3))"
      ],
      "metadata": {
        "colab": {
          "base_uri": "https://localhost:8080/"
        },
        "id": "JcoLmwFCYMxg",
        "outputId": "56a6f7f4-3682-4951-9dd1-e40b720e5d05"
      },
      "execution_count": 22,
      "outputs": [
        {
          "output_type": "stream",
          "name": "stdout",
          "text": [
            "Downloading data from https://storage.googleapis.com/tensorflow/keras-applications/vgg16/vgg16_weights_tf_dim_ordering_tf_kernels_notop.h5\n",
            "58889256/58889256 [==============================] - 0s 0us/step\n"
          ]
        }
      ]
    },
    {
      "cell_type": "code",
      "source": [
        "base_model.trainable = False"
      ],
      "metadata": {
        "id": "jOCKeXjDYMug"
      },
      "execution_count": 23,
      "outputs": []
    },
    {
      "cell_type": "code",
      "source": [
        "x = base_model.output\n",
        "x = Flatten()(x)\n",
        "x = Dense(128,activation='relu')(x)\n",
        "x = Dropout(0.5)(x)\n",
        "x = Dense(1,activation='sigmoid')(x)\n",
        "predictions = Dense(1,activation='sigmoid')(x)\n",
        "model = Model(inputs=base_model.input,outputs=predictions)\n"
      ],
      "metadata": {
        "id": "uyTsUR7wYMrj"
      },
      "execution_count": 24,
      "outputs": []
    },
    {
      "cell_type": "code",
      "source": [
        "new_test_dir = '/content1/cats_and_dogs/test_set/test_set'\n",
        "new_train_dir = '/content1/cats_and_dogs/training_set/training_set'"
      ],
      "metadata": {
        "id": "M83bWlj5YMkv"
      },
      "execution_count": 25,
      "outputs": []
    },
    {
      "cell_type": "code",
      "source": [
        "train_datagen =ImageDataGenerator(\n",
        "    rescale=1./255,\n",
        "    shear_range=0.2,\n",
        "    zoom_range=0.2,\n",
        "    horizontal_flip=True,\n",
        "\n",
        ")"
      ],
      "metadata": {
        "id": "8Z1kkp6uYMcA"
      },
      "execution_count": 26,
      "outputs": []
    },
    {
      "cell_type": "code",
      "source": [
        "validation_datagen = ImageDataGenerator(\n",
        "    rescale=1./255\n",
        ")"
      ],
      "metadata": {
        "id": "8SDyaGDfb2tt"
      },
      "execution_count": 27,
      "outputs": []
    },
    {
      "cell_type": "code",
      "source": [
        "train_generator = train_datagen.flow_from_directory(\n",
        "    new_train_dir,\n",
        "    target_size=(224,224),\n",
        "    batch_size=32,\n",
        "    class_mode='binary'\n",
        ")"
      ],
      "metadata": {
        "colab": {
          "base_uri": "https://localhost:8080/"
        },
        "id": "ZJFSi674b25a",
        "outputId": "3ba27a66-2984-43d2-c8cf-ba4fc8593a2b"
      },
      "execution_count": 28,
      "outputs": [
        {
          "output_type": "stream",
          "name": "stdout",
          "text": [
            "Found 8005 images belonging to 2 classes.\n"
          ]
        }
      ]
    },
    {
      "cell_type": "code",
      "source": [
        "validation_generator = validation_datagen.flow_from_directory(\n",
        "    new_test_dir,\n",
        "    target_size=(224,224),\n",
        "    batch_size=32,\n",
        "    class_mode='binary'\n",
        ")"
      ],
      "metadata": {
        "colab": {
          "base_uri": "https://localhost:8080/"
        },
        "id": "NlQbTfYjb3Fb",
        "outputId": "ac7a232b-195c-4432-cf94-a46c5c62de28"
      },
      "execution_count": 29,
      "outputs": [
        {
          "output_type": "stream",
          "name": "stdout",
          "text": [
            "Found 2023 images belonging to 2 classes.\n"
          ]
        }
      ]
    },
    {
      "cell_type": "code",
      "source": [
        "model.compile(optimizer=Adam(learning_rate=0.0001),loss='binary_crossentropy',metrics=['accuracy'])"
      ],
      "metadata": {
        "id": "q7uhYIYXcVNE"
      },
      "execution_count": 30,
      "outputs": []
    },
    {
      "cell_type": "code",
      "source": [
        "history = model.fit(train_generator,epochs=10,validation_data=validation_generator,\n",
        "                    steps_per_epoch=len(train_generator),validation_steps=len(validation_generator))"
      ],
      "metadata": {
        "colab": {
          "base_uri": "https://localhost:8080/"
        },
        "id": "rWvzc8iLcVWL",
        "outputId": "e1b3ef9e-e7b6-4125-eceb-6c2042dbc125"
      },
      "execution_count": 31,
      "outputs": [
        {
          "output_type": "stream",
          "name": "stdout",
          "text": [
            "Epoch 1/10\n",
            "251/251 [==============================] - 129s 468ms/step - loss: 0.5843 - accuracy: 0.6603 - val_loss: 0.5292 - val_accuracy: 0.8087\n",
            "Epoch 2/10\n",
            "251/251 [==============================] - 116s 461ms/step - loss: 0.5306 - accuracy: 0.8322 - val_loss: 0.5235 - val_accuracy: 0.8166\n",
            "Epoch 3/10\n",
            "251/251 [==============================] - 117s 465ms/step - loss: 0.5163 - accuracy: 0.8703 - val_loss: 0.5037 - val_accuracy: 0.9090\n",
            "Epoch 4/10\n",
            "251/251 [==============================] - 117s 467ms/step - loss: 0.5062 - accuracy: 0.8959 - val_loss: 0.4977 - val_accuracy: 0.9199\n",
            "Epoch 5/10\n",
            "251/251 [==============================] - 116s 462ms/step - loss: 0.4973 - accuracy: 0.9053 - val_loss: 0.4887 - val_accuracy: 0.9199\n",
            "Epoch 6/10\n",
            "251/251 [==============================] - 118s 471ms/step - loss: 0.4899 - accuracy: 0.9126 - val_loss: 0.4846 - val_accuracy: 0.9174\n",
            "Epoch 7/10\n",
            "251/251 [==============================] - 116s 460ms/step - loss: 0.4813 - accuracy: 0.9218 - val_loss: 0.4774 - val_accuracy: 0.9234\n",
            "Epoch 8/10\n",
            "251/251 [==============================] - 117s 467ms/step - loss: 0.4772 - accuracy: 0.9253 - val_loss: 0.4735 - val_accuracy: 0.9234\n",
            "Epoch 9/10\n",
            "251/251 [==============================] - 121s 481ms/step - loss: 0.4667 - accuracy: 0.9307 - val_loss: 0.4664 - val_accuracy: 0.9263\n",
            "Epoch 10/10\n",
            "251/251 [==============================] - 118s 469ms/step - loss: 0.4610 - accuracy: 0.9328 - val_loss: 0.4614 - val_accuracy: 0.9278\n"
          ]
        }
      ]
    },
    {
      "cell_type": "code",
      "source": [
        "val_loss,val_acc = model.evaluate(validation_generator,steps=len(validation_generator))\n",
        "print(val_loss,val_acc)"
      ],
      "metadata": {
        "colab": {
          "base_uri": "https://localhost:8080/"
        },
        "id": "wQ-4LNj4cVl1",
        "outputId": "aecd1993-7424-4d88-bc74-3449527134fe"
      },
      "execution_count": 32,
      "outputs": [
        {
          "output_type": "stream",
          "name": "stdout",
          "text": [
            "64/64 [==============================] - 9s 140ms/step - loss: 0.4614 - accuracy: 0.9278\n",
            "0.461353600025177 0.9278299808502197\n"
          ]
        }
      ]
    },
    {
      "cell_type": "code",
      "source": [
        "model.save('cats_and_dogs.h5')"
      ],
      "metadata": {
        "colab": {
          "base_uri": "https://localhost:8080/"
        },
        "id": "eHPe5zJscVsK",
        "outputId": "0a400cbe-ae0c-4ed2-f0d9-8a12ce91e745"
      },
      "execution_count": 33,
      "outputs": [
        {
          "output_type": "stream",
          "name": "stderr",
          "text": [
            "/usr/local/lib/python3.10/dist-packages/keras/src/engine/training.py:3103: UserWarning: You are saving your model as an HDF5 file via `model.save()`. This file format is considered legacy. We recommend using instead the native Keras format, e.g. `model.save('my_model.keras')`.\n",
            "  saving_api.save_model(\n"
          ]
        }
      ]
    },
    {
      "cell_type": "code",
      "source": [
        "from tensorflow.keras.models import load_model"
      ],
      "metadata": {
        "id": "Hmo_m3EqcVvx"
      },
      "execution_count": 34,
      "outputs": []
    },
    {
      "cell_type": "code",
      "source": [
        "model1 = load_model('cats_and_dogs.h5')"
      ],
      "metadata": {
        "id": "wGGnxbJYnMAa"
      },
      "execution_count": 35,
      "outputs": []
    },
    {
      "cell_type": "code",
      "source": [
        "from tensorflow.keras.preprocessing.image import load_img, img_to_array"
      ],
      "metadata": {
        "id": "vDEVuYFenPgo"
      },
      "execution_count": 36,
      "outputs": []
    },
    {
      "cell_type": "code",
      "source": [
        "def prepare_image(file):\n",
        "    img_path = '/'\n",
        "    img = load_img(img_path + file, target_size=(224, 224))  # Load image with target size\n",
        "    img_array = img_to_array(img)  # Convert image to array\n",
        "    img_array = np.expand_dims(img_array, axis=0)  # Add batch dimension\n",
        "    img_array /= 255.0  # Normalize to [0, 1]\n",
        "    return img_array"
      ],
      "metadata": {
        "id": "3buVhXmQoYf3"
      },
      "execution_count": 37,
      "outputs": []
    },
    {
      "cell_type": "code",
      "source": [
        "# Predict a single image\n",
        "image_file = 'pexels-pixabay-104827_1.jpg'\n",
        "image = prepare_image(image_file)\n",
        "prediction = model.predict(image)\n",
        "\n",
        "# Convert prediction to class label\n",
        "predicted_class = \"Dog\" if prediction > 0.5 else \"Cat\"\n",
        "\n",
        "print(f'The predicted class for {image_file} is: {predicted_class}')"
      ],
      "metadata": {
        "colab": {
          "base_uri": "https://localhost:8080/"
        },
        "id": "VwVT4157omWw",
        "outputId": "c864f40d-a12d-47a6-cd14-95b3ddfcd1d5"
      },
      "execution_count": 39,
      "outputs": [
        {
          "output_type": "stream",
          "name": "stdout",
          "text": [
            "1/1 [==============================] - 0s 19ms/step\n",
            "The predicted class for pexels-pixabay-104827_1.jpg is: Cat\n"
          ]
        }
      ]
    }
  ]
}